{
 "cells": [
  {
   "cell_type": "markdown",
   "metadata": {},
   "source": [
    "# Introduction:\n",
    "The titanic dataset is being investigated here. The dataset has been taken from the \"Kaggle\" website , which can be found here : \n",
    "\n",
    "\"https://www.kaggle.com/c/titanic/data \"\n",
    "\n",
    "The questions being dealt are with what were the survival rates over various other conditions such as with respect to females over males, children over adults and etc."
   ]
  },
  {
   "cell_type": "markdown",
   "metadata": {},
   "source": [
    "# Data Acquisition"
   ]
  },
  {
   "cell_type": "code",
   "execution_count": 31,
   "metadata": {
    "collapsed": true
   },
   "outputs": [],
   "source": [
    "#loading the data.\n",
    "import pandas as pd \n",
    "filename=pd.read_csv(\"C:\\\\Users\\\\Jon Targaryen\\\\Desktop\\\\Udacity\\\\NanoDegree\\\\Intro to Prog\\\\final proje\\\\titanic_data.csv\")"
   ]
  },
  {
   "cell_type": "markdown",
   "metadata": {},
   "source": [
    "Reading the dataset from the file \"titanic_data.csv\" using the pandas built in function \".read_csv\""
   ]
  },
  {
   "cell_type": "code",
   "execution_count": 32,
   "metadata": {},
   "outputs": [
    {
     "name": "stdout",
     "output_type": "stream",
     "text": [
      "Number of duplicate entries: 0\n"
     ]
    }
   ],
   "source": [
    "#trying to find any duplicate row entries.\n",
    "filename_data_duplicates = filename.duplicated().sum()\n",
    "print ('Number of duplicate entries: '+str((filename_data_duplicates)))"
   ]
  },
  {
   "cell_type": "markdown",
   "metadata": {},
   "source": [
    "Hence, there are no duplicate entrties in the dataset. Therefore , we can start analyzing."
   ]
  },
  {
   "cell_type": "code",
   "execution_count": 33,
   "metadata": {},
   "outputs": [
    {
     "name": "stdout",
     "output_type": "stream",
     "text": [
      "<class 'pandas.core.frame.DataFrame'>\n",
      "RangeIndex: 891 entries, 0 to 890\n",
      "Data columns (total 12 columns):\n",
      "PassengerId    891 non-null int64\n",
      "Survived       891 non-null int64\n",
      "Pclass         891 non-null int64\n",
      "Name           891 non-null object\n",
      "Sex            891 non-null object\n",
      "Age            714 non-null float64\n",
      "SibSp          891 non-null int64\n",
      "Parch          891 non-null int64\n",
      "Ticket         891 non-null object\n",
      "Fare           891 non-null float64\n",
      "Cabin          204 non-null object\n",
      "Embarked       889 non-null object\n",
      "dtypes: float64(2), int64(5), object(5)\n",
      "memory usage: 83.6+ KB\n"
     ]
    }
   ],
   "source": [
    "#getting the column length info\n",
    "filename.info()"
   ]
  },
  {
   "cell_type": "markdown",
   "metadata": {},
   "source": [
    "The actual length is \"891\". But some data entry is missing in \"Age\" , \"Cabin\" and \"Embarked\".I will try sorting these missing entries."
   ]
  },
  {
   "cell_type": "markdown",
   "metadata": {},
   "source": [
    "# Data Cleaning"
   ]
  },
  {
   "cell_type": "code",
   "execution_count": 34,
   "metadata": {},
   "outputs": [
    {
     "data": {
      "text/plain": [
       "PassengerId      0\n",
       "Survived         0\n",
       "Pclass           0\n",
       "Name             0\n",
       "Sex              0\n",
       "Age            177\n",
       "SibSp            0\n",
       "Parch            0\n",
       "Ticket           0\n",
       "Fare             0\n",
       "Cabin          687\n",
       "Embarked         2\n",
       "dtype: int64"
      ]
     },
     "execution_count": 34,
     "metadata": {},
     "output_type": "execute_result"
    }
   ],
   "source": [
    "#finding the  count of missing entries of each column.\n",
    "filename.isnull().sum()"
   ]
  },
  {
   "cell_type": "markdown",
   "metadata": {},
   "source": [
    "We can see here that \"Age\" has 177 empty entries. \"Cabin\" has 687 empty entries. \"Embarked\" has 2 empty entries.Let's handle these missing entries(and in turn , the respective rows) one by one."
   ]
  },
  {
   "cell_type": "code",
   "execution_count": 35,
   "metadata": {},
   "outputs": [
    {
     "data": {
      "text/plain": [
       "714"
      ]
     },
     "execution_count": 35,
     "metadata": {},
     "output_type": "execute_result"
    }
   ],
   "source": [
    "#finding the missing entries from \"Age\" column , making to \"NaN\", and then dropping those rows.\n",
    "import numpy as np\n",
    "import pandas as pd\n",
    "filename['Age'].replace('',np.nan, inplace=True)\n",
    "filename\n",
    "filename.dropna(subset=['Age'],inplace=True)\n",
    "len(filename)"
   ]
  },
  {
   "cell_type": "markdown",
   "metadata": {},
   "source": [
    "Its tough to assign values to missing values of \"Age\" . 2 things can be done : 1) Either we can find the average of the column \"Age\" and assign that mean value to the missing entries or 2) We can remove the all the empty entries with regards to age as there is no other way to know the missing age entries.\n",
    "\n",
    "I removed the empty age entries.\n",
    "\n",
    "Since Pandas don't recognize empty strings as null(or NaN). Therefore to use \"dropna\" (which would remove NaN) , I first converted the empty string with \"Age\" to \"np.nan\" objects using \"replace()\" and then called \"dropna\" to remove the null entries. As can be seen by \"len\" funtion here, the \"filename\" dataset now has 714 entries i.e 177 missing \"Age\" entries have been removed from the original 891 length."
   ]
  },
  {
   "cell_type": "code",
   "execution_count": 36,
   "metadata": {},
   "outputs": [
    {
     "data": {
      "text/html": [
       "<div>\n",
       "<style>\n",
       "    .dataframe thead tr:only-child th {\n",
       "        text-align: right;\n",
       "    }\n",
       "\n",
       "    .dataframe thead th {\n",
       "        text-align: left;\n",
       "    }\n",
       "\n",
       "    .dataframe tbody tr th {\n",
       "        vertical-align: top;\n",
       "    }\n",
       "</style>\n",
       "<table border=\"1\" class=\"dataframe\">\n",
       "  <thead>\n",
       "    <tr style=\"text-align: right;\">\n",
       "      <th></th>\n",
       "      <th>PassengerId</th>\n",
       "      <th>Survived</th>\n",
       "      <th>Pclass</th>\n",
       "      <th>Name</th>\n",
       "      <th>Sex</th>\n",
       "      <th>Age</th>\n",
       "      <th>SibSp</th>\n",
       "      <th>Parch</th>\n",
       "      <th>Ticket</th>\n",
       "      <th>Fare</th>\n",
       "      <th>Cabin</th>\n",
       "      <th>Embarked</th>\n",
       "    </tr>\n",
       "  </thead>\n",
       "  <tbody>\n",
       "    <tr>\n",
       "      <th>61</th>\n",
       "      <td>62</td>\n",
       "      <td>1</td>\n",
       "      <td>1</td>\n",
       "      <td>Icard, Miss. Amelie</td>\n",
       "      <td>female</td>\n",
       "      <td>38.0</td>\n",
       "      <td>0</td>\n",
       "      <td>0</td>\n",
       "      <td>113572</td>\n",
       "      <td>80.0</td>\n",
       "      <td>B28</td>\n",
       "      <td>NaN</td>\n",
       "    </tr>\n",
       "    <tr>\n",
       "      <th>829</th>\n",
       "      <td>830</td>\n",
       "      <td>1</td>\n",
       "      <td>1</td>\n",
       "      <td>Stone, Mrs. George Nelson (Martha Evelyn)</td>\n",
       "      <td>female</td>\n",
       "      <td>62.0</td>\n",
       "      <td>0</td>\n",
       "      <td>0</td>\n",
       "      <td>113572</td>\n",
       "      <td>80.0</td>\n",
       "      <td>B28</td>\n",
       "      <td>NaN</td>\n",
       "    </tr>\n",
       "  </tbody>\n",
       "</table>\n",
       "</div>"
      ],
      "text/plain": [
       "     PassengerId  Survived  Pclass                                       Name  \\\n",
       "61            62         1       1                        Icard, Miss. Amelie   \n",
       "829          830         1       1  Stone, Mrs. George Nelson (Martha Evelyn)   \n",
       "\n",
       "        Sex   Age  SibSp  Parch  Ticket  Fare Cabin Embarked  \n",
       "61   female  38.0      0      0  113572  80.0   B28      NaN  \n",
       "829  female  62.0      0      0  113572  80.0   B28      NaN  "
      ]
     },
     "execution_count": 36,
     "metadata": {},
     "output_type": "execute_result"
    }
   ],
   "source": [
    "#finding the missing entries from the column \" Embarked\"\n",
    "missing_embarkation=filename[filename['Embarked'].isnull()]\n",
    "missing_embarkation"
   ]
  },
  {
   "cell_type": "markdown",
   "metadata": {},
   "source": [
    "\n",
    "Now, considering the empty entries of \"Embarked\" , there are 2 empty entries. I will try seeing whether I can get any information from other columns regarding these empty entries."
   ]
  },
  {
   "cell_type": "code",
   "execution_count": 37,
   "metadata": {},
   "outputs": [
    {
     "data": {
      "text/plain": [
       "0"
      ]
     },
     "execution_count": 37,
     "metadata": {},
     "output_type": "execute_result"
    }
   ],
   "source": [
    "#trying to fill the missing entries of \"Embark\" column by finding information from other columns, with respect to similar column entries.\n",
    "embarked_related_entries_in_other_columns=filename[(filename['Embarked'].notnull()) & ((filename['Ticket'] == '113572') | (filename['Cabin'] == 'B28')) |filename['Fare']==80]\n",
    "len(embarked_related_entries_in_other_columns)"
   ]
  },
  {
   "cell_type": "markdown",
   "metadata": {},
   "source": [
    "I tried to get the missing entries of \"Embarked\" from other columns, with regards to being same \"Ticket\" number or \"Cabin\" number or \"Fare\" amount but to no avail."
   ]
  },
  {
   "cell_type": "code",
   "execution_count": 38,
   "metadata": {},
   "outputs": [
    {
     "data": {
      "text/plain": [
       "S    554\n",
       "C    130\n",
       "Q     28\n",
       "Name: Embarked, dtype: int64"
      ]
     },
     "execution_count": 38,
     "metadata": {},
     "output_type": "execute_result"
    }
   ],
   "source": [
    "#finding the passenger counts of all stations.\n",
    "filename[\"Embarked\"].value_counts()"
   ]
  },
  {
   "cell_type": "markdown",
   "metadata": {},
   "source": [
    "I found out the maximum occurence value of \"Embarked\" is \"S\" which stands for Southampton. So, I will put the empty entries to \"S\" since there are only 2 missing entries which wasn't the case as in \"Age\"."
   ]
  },
  {
   "cell_type": "code",
   "execution_count": 20,
   "metadata": {},
   "outputs": [
    {
     "name": "stdout",
     "output_type": "stream",
     "text": [
      "<class 'pandas.core.frame.DataFrame'>\n",
      "RangeIndex: 891 entries, 0 to 890\n",
      "Data columns (total 12 columns):\n",
      "PassengerId    891 non-null int64\n",
      "Survived       891 non-null int64\n",
      "Pclass         891 non-null int64\n",
      "Name           891 non-null object\n",
      "Sex            891 non-null object\n",
      "Age            714 non-null float64\n",
      "SibSp          891 non-null int64\n",
      "Parch          891 non-null int64\n",
      "Ticket         891 non-null object\n",
      "Fare           891 non-null float64\n",
      "Cabin          204 non-null object\n",
      "Embarked       891 non-null object\n",
      "dtypes: float64(2), int64(5), object(5)\n",
      "memory usage: 83.6+ KB\n"
     ]
    }
   ],
   "source": [
    "#Assigning the missing station entries to the maximum occurence station count .\n",
    "filename['Embarked'].fillna('S',inplace=True)\n",
    "filename.info()"
   ]
  },
  {
   "cell_type": "markdown",
   "metadata": {},
   "source": [
    "Therefore, I have made the missing entries of \"Embarked\" assigned to \"S\".Hence, \"Age\" and \"Embarked\" have been sorted out now."
   ]
  },
  {
   "cell_type": "code",
   "execution_count": 11,
   "metadata": {},
   "outputs": [
    {
     "name": "stdout",
     "output_type": "stream",
     "text": [
      "<class 'pandas.core.frame.DataFrame'>\n",
      "Int64Index: 714 entries, 0 to 890\n",
      "Data columns (total 7 columns):\n",
      "Survived    714 non-null int64\n",
      "Pclass      714 non-null int64\n",
      "Sex         714 non-null object\n",
      "Age         714 non-null float64\n",
      "SibSp       714 non-null int64\n",
      "Parch       714 non-null int64\n",
      "Embarked    714 non-null object\n",
      "dtypes: float64(1), int64(4), object(2)\n",
      "memory usage: 44.6+ KB\n"
     ]
    }
   ],
   "source": [
    "#dropping the irrelevant columns with respect to the analysis being done.\n",
    "filename_cleaned=filename.drop(['PassengerId','Name','Ticket','Fare','Cabin'],axis=1)\n",
    "filename_cleaned.head(4)\n",
    "filename_cleaned.info()"
   ]
  },
  {
   "cell_type": "markdown",
   "metadata": {},
   "source": [
    "Now \"Cabin\" missing entries were 687. If the same logic as of \"Age\" entries was applied, we would lose almost all of the data. Hence, for that reason, lets not consider the column \"Cabin\" at all in our analysis instead of removing those missing entry rows of \"Cabin\" as we did for \"Age\".\n",
    "\n",
    "Since we are talking about removing columns, I removed various other columns too which we wouldn't be needing for analysis.\n",
    "\n",
    "For analysis: our main question would be to find the number of survivors over different factors,such as ,with respect to ages, with respect to ticket class, boarding station. Keeping these things in mind, we wouldn't be needing the columns such as \" PassengerId\", \"Name\", \"Ticket\", \"Fare\" and ,ofcourse, as mentioned before, the column \" Cabin\"."
   ]
  },
  {
   "cell_type": "markdown",
   "metadata": {},
   "source": [
    "# Questioning + Exploring + Drawing Conclusions:\n"
   ]
  },
  {
   "cell_type": "markdown",
   "metadata": {},
   "source": [
    "# How was the survival rate of females? Were females given importance over men?\n"
   ]
  },
  {
   "cell_type": "code",
   "execution_count": 39,
   "metadata": {},
   "outputs": [
    {
     "name": "stdout",
     "output_type": "stream",
     "text": [
      "Total passengers taken into dataset: 714\n",
      "Total survivors: 290\n",
      "Total deaths: 424\n",
      "Total male passengers: 453\n",
      "Total female passengers: 261\n",
      "Number of males who survived: 93\n",
      "Number of males who died: 360\n",
      "Number of females who survived: 197\n",
      "Number of females who died: 64\n"
     ]
    },
    {
     "data": {
      "image/png": "[encoded data removed]",
      "text/plain": [
       "<matplotlib.figure.Figure at 0x213d5e38be0>"
      ]
     },
     "metadata": {},
     "output_type": "display_data"
    }
   ],
   "source": [
    "#determining total passengers who survived and who couldn't survive.\n",
    "total_passengers=len(filename_cleaned)\n",
    "print (\"Total passengers taken into dataset: \"+str(total_passengers))\n",
    "\n",
    "survived_count=filename_cleaned[filename_cleaned['Survived']==1]\n",
    "total_survivors=len (survived_count)\n",
    "print (\"Total survivors: \" +str(total_survivors))\n",
    "death_count=filename_cleaned[filename_cleaned['Survived']==0]\n",
    "total_deaths=len (death_count)\n",
    "print (\"Total deaths: \" +str(total_deaths))\n",
    "\n",
    "#determining total male count and female count who took the journey.\n",
    "male_count=filename_cleaned[filename_cleaned['Sex']=='male']\n",
    "male_passengers=len (male_count)\n",
    "print (\"Total male passengers: \"+str(male_passengers))\n",
    "female_count=filename_cleaned[filename_cleaned['Sex']=='female']\n",
    "female_passengers=len (female_count)\n",
    "print (\"Total female passengers: \"+ str(female_passengers))\n",
    "\n",
    "#determing male passengers who survived and who couldn't survive.\n",
    "male_survivors = filename_cleaned[(filename_cleaned['Survived']==1) & (filename_cleaned['Sex'] == 'male') ]\n",
    "number_of_male_survivors=len(male_survivors)\n",
    "print (\"Number of males who survived: \" +str(number_of_male_survivors))\n",
    "\n",
    "male_deaths= filename_cleaned[(filename_cleaned['Survived']==0) & (filename_cleaned['Sex'] == 'male') ]\n",
    "number_of_male_deaths=len(male_deaths)\n",
    "print (\"Number of males who died: \" +str(number_of_male_deaths))\n",
    "\n",
    "#determing female passengers who survived and who couldn't survive.\n",
    "female_survivors= filename_cleaned[(filename_cleaned['Survived']==1) & (filename_cleaned['Sex'] == 'female') ]\n",
    "number_of_female_survivors=len(female_survivors)\n",
    "print (\"Number of females who survived: \" +str(number_of_female_survivors))\n",
    "\n",
    "female_deaths= filename_cleaned[(filename_cleaned['Survived']==0) & (filename_cleaned['Sex'] == 'female') ]\n",
    "number_of_female_deaths=len(female_deaths)\n",
    "print (\"Number of females who died: \" +str(number_of_female_deaths))\n",
    "\n",
    "\n",
    "#plotting the survival rates of genders\n",
    "import seaborn as sns\n",
    "import matplotlib.pyplot as plt\n",
    "\n",
    "\n",
    "pointplot=sns.pointplot(data=filename_cleaned,x=\"Sex\",y=\"Survived\") #data to plot\n",
    "pointplot.set_xlabel(\"Gender of passengers\",fontsize=15,color=\"red\")\n",
    "pointplot.set_ylabel(\"Survival rate\",fontsize=15,color=\"red\")\n",
    "pointplot.set_title(\"Survival rate of the genders\",fontsize=20,color=\"blue\")\n",
    "sns.plt.show()"
   ]
  },
  {
   "cell_type": "markdown",
   "metadata": {},
   "source": [
    "The female survival rate ( number of females who survived/ total female passengers=197/261=0.754) The male survival rate ( number of males who survived/ total male passengers=93/453=0.205) Hence, the females were given importance to survive."
   ]
  },
  {
   "cell_type": "markdown",
   "metadata": {},
   "source": [
    "# How was the survival rate of children(age <= 18) compared to adults? Were the children given importance?\n"
   ]
  },
  {
   "cell_type": "code",
   "execution_count": 41,
   "metadata": {},
   "outputs": [
    {
     "name": "stdout",
     "output_type": "stream",
     "text": [
      "no     575\n",
      "yes    139\n",
      "Name: child, dtype: int64\n",
      "Number of adults: 575\n",
      "Number of adult survivors: 220\n",
      "Number of adult deaths: 355\n",
      "Number of children: 139\n",
      "Number of child survivors: 70\n",
      "Number of child deaths: 69\n"
     ]
    },
    {
     "data": {
      "image/png": "[encoded data removed]",
      "text/plain": [
       "<matplotlib.figure.Figure at 0x213d628f128>"
      ]
     },
     "metadata": {},
     "output_type": "display_data"
    }
   ],
   "source": [
    "# A function to determine whether a passenger is a child or not . The age of 18 being the threshold for differentiating \n",
    "#between children and adults.\n",
    "\n",
    "def child(x):\n",
    "    if x > 18:\n",
    "        return \"no\"\n",
    "    else:\n",
    "        return \"yes\"\n",
    "    \n",
    "#Applying the above developed function on the column \"Age\" to determine whether a passenger is child or not.\n",
    "filename_cleaned[\"child\"] = pd.Series(filename_cleaned[\"Age\"].apply(child))\n",
    "print (filename_cleaned[\"child\"].value_counts())\n",
    "\n",
    "#Determining whether the passenger is an adult or not.\n",
    "adult_count=len(filename_cleaned[filename_cleaned[\"child\"]==\"no\"])\n",
    "print (\"Number of adults: \"+ str(adult_count))\n",
    "\n",
    "#Determining whether the passenger is an adult and whether they survived.\n",
    "adult_survivors=filename_cleaned[(filename_cleaned['child']==\"no\") & (filename_cleaned['Survived'] == 1)]\n",
    "adult_survivors_count=len(adult_survivors)\n",
    "print (\"Number of adult survivors: \" + str(adult_survivors_count))\n",
    "\n",
    "#Determining whether the passenger is an adult and couldn't surive.\n",
    "adult_deaths=filename_cleaned[(filename_cleaned['child']==\"no\") & (filename_cleaned['Survived'] == 0)]\n",
    "adult_death_count=len(adult_deaths)\n",
    "print (\"Number of adult deaths: \" + str(adult_death_count))\n",
    "\n",
    "\n",
    "#Determining whether the passenger is a child or not.\n",
    "child_count=len(filename_cleaned[filename_cleaned[\"child\"]==\"yes\"])\n",
    "print (\"Number of children: \"+ str(child_count))\n",
    "\n",
    "#Determining whether the passenger is a child and whether they survived.\n",
    "child_survivors=filename_cleaned[(filename_cleaned['child']==\"yes\") & (filename_cleaned['Survived'] == 1)]\n",
    "child_survivors_count=len(child_survivors)\n",
    "print (\"Number of child survivors: \" + str(child_survivors_count))\n",
    "\n",
    "#Determining whether the passenger is a child and couldn't survive.\n",
    "child_deaths=filename_cleaned[(filename_cleaned['child']==\"yes\") & (filename_cleaned['Survived'] == 0)]\n",
    "child_death_count=len(child_deaths)\n",
    "print (\"Number of child deaths: \" + str(child_death_count))\n",
    "\n",
    "#plotting the survival rates of child vs adult \n",
    "import seaborn as sns\n",
    "import matplotlib.pyplot as plt\n",
    "\n",
    "barplot =sns.barplot(data=filename_cleaned,x=\"child\",y=\"Survived\") #data to plot\n",
    "barplot.set_xlabel(\"Passenger is a child or not\",fontsize=15,color=\"green\")\n",
    "barplot.set_ylabel(\"Survival rates\",fontsize=15,color=\"green\")\n",
    "barplot.set_title(\"Survival rates of child vs adult\",fontsize=20,color=\"blue\")\n",
    "sns.plt.show()"
   ]
  },
  {
   "cell_type": "markdown",
   "metadata": {},
   "source": [
    "First,I have defined the procedure \"child\" and then calling it with the \".apply\" function to develop a separate column \"child\" in the dataset. Then the \"value_counts\" gave the number of children and number of adults count. I then found the count of children who survived and count of adults who survived by using the \"&\" logical operation.\n",
    "\n",
    "Then after getting the numbers, I just implemented the child count & adult count in the bargraph with their survival rates.\n",
    "\n",
    "The child survival rate (number of child survivors/number of children= 70/139=0.503 ) and adult survival rate (number of adult survivors/number of adults =220/575=0.382) is shown in the graph.\n",
    "\n",
    "Hence, looking at the numbers ,and the graph supporting the numbers, we can conclude that the children were given importance over adults to survive"
   ]
  },
  {
   "cell_type": "markdown",
   "metadata": {},
   "source": [
    "\n",
    "# How was the survival rate compared to different classes of tickets(Pclass)?"
   ]
  },
  {
   "cell_type": "code",
   "execution_count": 43,
   "metadata": {},
   "outputs": [
    {
     "name": "stdout",
     "output_type": "stream",
     "text": [
      "3    355\n",
      "1    186\n",
      "2    173\n",
      "Name: Pclass, dtype: int64\n",
      "Number of first class passengers: 186\n",
      "Number of first class passengers who survived: 122\n",
      "Number of first class passengers who died: 64\n",
      "Number of second class passengers: 173\n",
      "Number of second class passengers who survived: 83\n",
      "Number of second class passengers who died: 90\n",
      "Number of third class passengers: 355\n",
      "Number of third class passengers who survived: 85\n",
      "Number of third class passengers who died: 270\n"
     ]
    },
    {
     "data": {
      "image/png": "[encoded data removed]",
      "text/plain": [
       "<matplotlib.figure.Figure at 0x213d3446a20>"
      ]
     },
     "metadata": {},
     "output_type": "display_data"
    }
   ],
   "source": [
    "#determing the total counts for all classes.\n",
    "print (filename_cleaned['Pclass'].value_counts())\n",
    "\n",
    "#finding the total counts for class1 and finding how many survived and how many couldn't survive in class 1.\n",
    "first_class_count=len(filename_cleaned[filename_cleaned['Pclass']==1])\n",
    "print (\"Number of first class passengers: \"+str(first_class_count))\n",
    "\n",
    "first_class_survivors= filename_cleaned[(filename_cleaned['Survived']==1) & (filename_cleaned['Pclass'] == 1) ]\n",
    "number_of_first_class_survivors=len(first_class_survivors)\n",
    "print (\"Number of first class passengers who survived: \" +str(number_of_first_class_survivors))\n",
    "\n",
    "first_class_deaths= filename_cleaned[(filename_cleaned['Survived']==0) & (filename_cleaned['Pclass'] == 1) ]\n",
    "number_of_first_class_deaths=len(first_class_deaths)\n",
    "print (\"Number of first class passengers who died: \" +str(number_of_first_class_deaths))\n",
    "\n",
    "\n",
    "#finding the total counts for class2 and finding how many survived and how many couldn't survive in class 2.\n",
    "second_class_count=len(filename_cleaned[filename_cleaned['Pclass']==2])\n",
    "print (\"Number of second class passengers: \"+str(second_class_count))\n",
    "\n",
    "second_class_survivors= filename_cleaned[(filename_cleaned['Survived']==1) & (filename_cleaned['Pclass'] == 2) ]\n",
    "number_of_second_class_survivors=len(second_class_survivors)\n",
    "print (\"Number of second class passengers who survived: \" +str(number_of_second_class_survivors))\n",
    "\n",
    "second_class_deaths= filename_cleaned[(filename_cleaned['Survived']==0) & (filename_cleaned['Pclass'] == 2) ]\n",
    "number_of_second_class_deaths=len(second_class_deaths)\n",
    "print (\"Number of second class passengers who died: \" +str(number_of_second_class_deaths))\n",
    "\n",
    "\n",
    "#finding the total counts for class3 and finding how many survived and how many couldn't survive in class 3.\n",
    "third_class_count=len(filename_cleaned[filename_cleaned['Pclass']==3])\n",
    "print (\"Number of third class passengers: \"+str(third_class_count))\n",
    "\n",
    "third_class_survivors= filename_cleaned[(filename_cleaned['Survived']==1) & (filename_cleaned['Pclass'] == 3) ]\n",
    "number_of_third_class_survivors=len(third_class_survivors)\n",
    "print (\"Number of third class passengers who survived: \" +str(number_of_third_class_survivors))\n",
    "\n",
    "third_class_deaths= filename_cleaned[(filename_cleaned['Survived']==0) & (filename_cleaned['Pclass'] == 3) ]\n",
    "number_of_third_class_deaths=len(third_class_deaths)\n",
    "print (\"Number of third class passengers who died: \" +str(number_of_third_class_deaths))\n",
    "\n",
    "\n",
    "#plotting survival rates of different classes\n",
    "import matplotlib.pyplot as plt\n",
    "import seaborn as sns\n",
    "\n",
    "factorplot=sns.factorplot(x=\"Pclass\", y=\"Survived\", data=filename_cleaned)#data to plot\n",
    "factorplot.set_xlabels(\"Different P classes\",fontsize=15,color=\"red\")\n",
    "factorplot.set_ylabels(\"Survival Rates\",fontsize=15,color=\"red\")\n",
    "\n",
    "sns.plt.title(\"Survival rates of different P classes\",fontsize=20,color=\"blue\")\n",
    "sns.plt.show()"
   ]
  },
  {
   "cell_type": "markdown",
   "metadata": {},
   "source": [
    "The survival rate of class 1 passengers ( Number of first class passengers who survived/Number of first class passengers=122/186=0.655). The survival rate of class 2 passengers ( Number of second class passengers who survived/Number of second class passengers=83/173=0.479). The survival rate of class 3 passengers ( Number of third class passengers who survived/Number of third class passengers=85/355=0.239).\n",
    "\n",
    "Hence, looking at the numbers and graph, we can conclude that the survival rate was more for class 1 passengers when compared to class 2 passengers and class 2 passengers had a more survival rate when compared to class 3 passengers.\n",
    "\n",
    "We can think that probabaly the safety measures , or exit ways, or escape ways,were better and easy for class 1 over class 2 and class 2 over class 3. We can attribute these difference in measures owing to the range of tickets class ."
   ]
  },
  {
   "cell_type": "markdown",
   "metadata": {},
   "source": [
    "# How was the survival rate for people with families and for someone who was travelling alone?\n"
   ]
  },
  {
   "cell_type": "code",
   "execution_count": 51,
   "metadata": {},
   "outputs": [
    {
     "name": "stdout",
     "output_type": "stream",
     "text": [
      "Number of lone travellers: 404\n",
      "Number of family travellers: 310\n",
      "yes    404\n",
      "no     310\n",
      "Name: lone_traveller, dtype: int64\n",
      "Number of lone travel passengers who survived: 130\n",
      "Number of family travel passengers who survived: 160\n"
     ]
    },
    {
     "data": {
      "image/png": "[encoded data removed]",
      "text/plain": [
       "<matplotlib.figure.Figure at 0x213d657f400>"
      ]
     },
     "metadata": {},
     "output_type": "display_data"
    }
   ],
   "source": [
    "#determing the total count of passengers who were travelling alone. \n",
    "alone_travellers= filename_cleaned[(filename_cleaned['SibSp']==0) & (filename_cleaned['Parch'] == 0) ]\n",
    "number_of_lone_travellers=len(alone_travellers)\n",
    "print (\"Number of lone travellers: \"+str(number_of_lone_travellers))\n",
    "\n",
    "#determing the total count of passengers who were travelling with atleast one family member(either child/spouse/parent or sibling).\n",
    "family_travellers= filename_cleaned[(filename_cleaned['SibSp']!=0) | (filename_cleaned['Parch'] != 0) ]\n",
    "number_of_family_travellers=len(family_travellers)\n",
    "print (\"Number of family travellers: \"+str(number_of_family_travellers))\n",
    "\n",
    "#creating a function to find about the lone travellers.\n",
    "def lone_traveller(x):\n",
    "    if x['SibSp']==0 :\n",
    "        if x['Parch']==0:\n",
    "            return \"yes\"\n",
    "    \n",
    "    return \"no\"\n",
    "\n",
    "#developing a new column ,to determine the lone travellers\n",
    "filename_cleaned[\"lone_traveller\"]=pd.Series(filename_cleaned.apply(lone_traveller,axis=1))\n",
    "\n",
    "print (filename_cleaned[\"lone_traveller\"].value_counts())\n",
    "\n",
    "\n",
    "#determining the number of lone travellers who survived.\n",
    "lone_travel_survivors= filename_cleaned[(filename_cleaned['Survived']==1) & (filename_cleaned['lone_traveller'] == \"yes\") ]\n",
    "number_of_lone_travel_survivors=len(lone_travel_survivors)\n",
    "print (\"Number of lone travel passengers who survived: \" +str(number_of_lone_travel_survivors))\n",
    "\n",
    "#determining the number of family travellers who survived.\n",
    "family_travel_survivors= filename_cleaned[(filename_cleaned['Survived']==1) & (filename_cleaned['lone_traveller'] == \"no\") ]\n",
    "number_of_family_travel_survivors=len(family_travel_survivors)\n",
    "print (\"Number of family travel passengers who survived: \" +str(number_of_family_travel_survivors))\n",
    "\n",
    "#plotting survival rates of lone passengers vs passengers travelling with any family member\n",
    "import seaborn as sns\n",
    "import matplotlib.pyplot as plt\n",
    "\n",
    "barplot=sns.barplot(data=filename_cleaned, x=\"lone_traveller\", y=\"Survived\")#data to plot\n",
    "barplot.set_xlabel(\"Lone traveller \", fontsize=15,color=\"red\")\n",
    "barplot.set_ylabel(\"Survival rate\", fontsize=15,color=\"red\")\n",
    "barplot.set_title(\"Lone travellers vs family travellers survival rate\",fontsize=20,color=\"blue\")\n",
    "sns.plt.show()\n"
   ]
  },
  {
   "cell_type": "markdown",
   "metadata": {},
   "source": [
    "A separate column of \"lone_traveller\" was created using the \". apply\" method. The percentage of lone travellers who survived (Number of lone travel passengers who survived/Number of lone travellers=130/404=0.321). The percentage of family travellers who survived (Number of family travel passengers who survived/Number of family travellers=160/310=0.516).\n",
    "\n",
    "Hence, the graph, showing these numbers ,shows us that the passengers who were travelling with families were given importance to survive when compared to the ones who were travelling alone."
   ]
  },
  {
   "cell_type": "markdown",
   "metadata": {},
   "source": [
    "# Which embarkation station people had the higher survival chance? Can a patter be found with people from same places?"
   ]
  },
  {
   "cell_type": "code",
   "execution_count": 52,
   "metadata": {},
   "outputs": [
    {
     "name": "stdout",
     "output_type": "stream",
     "text": [
      "S    556\n",
      "C    130\n",
      "Q     28\n",
      "Name: Embarked, dtype: int64\n",
      "Number of passengers from Southampton: 556\n",
      "Number of S station passengers who survived: 203\n",
      "Number of S station passengers who died: 353\n",
      "Number of passengers from Cherbourg: 130\n",
      "Number of C station passengers who survived: 79\n",
      "Number of C station passengers who died: 51\n",
      "Number of passengers from Queenstown: 28\n",
      "Number of Q station passengers who survived: 8\n",
      "Number of Q station passengers who died: 20\n"
     ]
    },
    {
     "data": {
      "image/png": "[encoded data removed]",
      "text/plain": [
       "<matplotlib.figure.Figure at 0x213d647af28>"
      ]
     },
     "metadata": {},
     "output_type": "display_data"
    }
   ],
   "source": [
    "#determining the total count of passengers from each station.\n",
    "print (filename_cleaned[\"Embarked\"].value_counts())\n",
    "\n",
    "#finding the number of passengers from Station 'S' and the number of passengers who survived and who couldn't .\n",
    "passengers_from_S_station=len(filename[filename_cleaned[\"Embarked\"]==\"S\"])\n",
    "print (\"Number of passengers from Southampton: \"+str(passengers_from_S_station))\n",
    "S_station_survivors= filename_cleaned[(filename_cleaned['Survived']==1) & (filename_cleaned['Embarked'] == \"S\")]\n",
    "number_of_S_station_survivors=len(S_station_survivors)\n",
    "print (\"Number of S station passengers who survived: \" +str(number_of_S_station_survivors))\n",
    "S_station_deaths= filename_cleaned[(filename_cleaned['Survived']==0) & (filename_cleaned['Embarked'] == \"S\")]\n",
    "number_of_S_station_deaths=len(S_station_deaths)\n",
    "print (\"Number of S station passengers who died: \" +str(number_of_S_station_deaths))\n",
    "\n",
    "#finding the number of passengers from Station 'C' and the number of passengers who survived and who couldn't .\n",
    "passengers_from_C_station=len(filename[filename_cleaned[\"Embarked\"]==\"C\"])\n",
    "print (\"Number of passengers from Cherbourg: \"+str(passengers_from_C_station))\n",
    "C_station_survivors= filename_cleaned[(filename_cleaned['Survived']==1) & (filename_cleaned['Embarked'] == \"C\")]\n",
    "number_of_C_station_survivors=len(C_station_survivors)\n",
    "print (\"Number of C station passengers who survived: \" +str(number_of_C_station_survivors))\n",
    "C_station_deaths= filename_cleaned[(filename_cleaned['Survived']==0) & (filename_cleaned['Embarked'] == \"C\")]\n",
    "number_of_C_station_deaths=len(C_station_deaths)\n",
    "print (\"Number of C station passengers who died: \" +str(number_of_C_station_deaths))\n",
    "\n",
    "#finding the number of passengers from Station 'Q' and the number of passengers who survived and who couldn't .\n",
    "passengers_from_Q_station=len(filename[filename_cleaned[\"Embarked\"]==\"Q\"])\n",
    "print (\"Number of passengers from Queenstown: \"+str(passengers_from_Q_station))\n",
    "Q_station_survivors= filename_cleaned[(filename_cleaned['Survived']==1) & (filename_cleaned['Embarked'] == \"Q\")]\n",
    "number_of_Q_station_survivors=len(Q_station_survivors)\n",
    "print (\"Number of Q station passengers who survived: \" +str(number_of_Q_station_survivors))\n",
    "Q_station_deaths= filename_cleaned[(filename_cleaned['Survived']==0) & (filename_cleaned['Embarked'] == \"Q\")]\n",
    "number_of_Q_station_deaths=len(Q_station_deaths)\n",
    "print (\"Number of Q station passengers who died: \" +str(number_of_Q_station_deaths))\n",
    "\n",
    "\n",
    "import matplotlib.pyplot as plt\n",
    "import seaborn as sns\n",
    "\n",
    "#data to create bar plot\n",
    "barplot=sns.barplot( x=\"Embarked\", y=\"Survived\",data=filename_cleaned)\n",
    "\n",
    "#setting the x label,y label,title and plotting.\n",
    "barplot.set_xlabel(\"Embarkation\",fontsize=15,color=\"red\") \n",
    "barplot.set_ylabel(\"Survival rate\",fontsize=15,color=\"red\") \n",
    "barplot.set_title(\"Survival rates from different Embarkations\",fontsize=20,color=\"purple\") \n",
    "sns.plt.show()\n"
   ]
  },
  {
   "cell_type": "markdown",
   "metadata": {},
   "source": [
    "Survival rate of S station passengers: 203/556=0.365. Survival rate of C station passengers: 79/130=0.607. Survival rate of Q station passengers: 8/28=0.285.\n",
    "\n",
    "Hence, the C station passengers had a higher survival rate. Probably, the passengers from in and around Cherbourg had a better way of dealing with the cold temperatures when the ship was hit."
   ]
  },
  {
   "cell_type": "markdown",
   "metadata": {},
   "source": [
    "# How was the survival rate of females travelling with children only? Can this data be found?\n"
   ]
  },
  {
   "cell_type": "markdown",
   "metadata": {},
   "source": [
    "Survival rate of females travelling with either children or parents can be found but not separately only with children.\n",
    "As the dataset has \"Parch\" which gives the information about parents or children as a collection.\n",
    "\n",
    "Hence, if Sex== female, Parch== 1, that might either be parent to the female or the child of the female. Even in this , if we start looking at the \"Age\" column and look at \"Name\" column and compare \"Age\" and make a list of \"surname\" from \"Name\" , it gets very complicated.Moreover, I already have removed the \"Name\" column in the starting.\n",
    "\n",
    "Conclusive statement with respect to female with children only cannot be made with this data."
   ]
  },
  {
   "cell_type": "markdown",
   "metadata": {},
   "source": [
    "# On the whole, what % died and what % survived?\n"
   ]
  },
  {
   "cell_type": "code",
   "execution_count": 53,
   "metadata": {
    "scrolled": true
   },
   "outputs": [
    {
     "data": {
      "image/png": "[encoded data removed]",
      "text/plain": [
       "<matplotlib.figure.Figure at 0x213d4c46400>"
      ]
     },
     "metadata": {},
     "output_type": "display_data"
    }
   ],
   "source": [
    "import matplotlib.pyplot as plt\n",
    "\n",
    "#data to plot\n",
    "labels='Percentage of survivors from total in dataset', 'Percentage of deaths from total in dataset'\n",
    "sizes=[total_survivors,total_deaths]\n",
    "\n",
    "\n",
    "#plotting pie diagram with % of survivors and deaths.\n",
    "plt.pie(sizes,  labels=labels,autopct='%.2f%%',startangle=90)\n",
    "plt.axis('equal')  # Equal aspect ratio ensures that pie is drawn as a circle.\n",
    "plt.title('Percentage of Survival/Death', bbox={'facecolor':'0.9', 'pad':8})\n",
    "plt.show()"
   ]
  },
  {
   "cell_type": "markdown",
   "metadata": {},
   "source": [
    "From the total aboard of 714 in the dataset,  290 survived (290/714= 40.62%) &  424 died (424/714=59.38%)."
   ]
  },
  {
   "cell_type": "markdown",
   "metadata": {},
   "source": [
    "# Which age group survived better?\n"
   ]
  },
  {
   "cell_type": "code",
   "execution_count": 54,
   "metadata": {},
   "outputs": [
    {
     "data": {
      "image/png": "[encoded data removed]",
      "text/plain": [
       "<matplotlib.figure.Figure at 0x213d3424f98>"
      ]
     },
     "metadata": {},
     "output_type": "display_data"
    }
   ],
   "source": [
    "import seaborn as sns\n",
    "#comparing \"Survival=1\" and \"Age\".\n",
    "survivors_ages = filename_cleaned[filename_cleaned[\"Survived\"] == 1][\"Age\"]\n",
    "distplot=sns.distplot( survivors_ages)\n",
    "\n",
    "#setting the x label,y label,title and plotting.\n",
    "distplot.set_xlabel(\"Age\",fontsize=15,color=\"purple\")\n",
    "distplot.set_ylabel(\"Percent Survivors\",fontsize=15,color=\"purple\")\n",
    "distplot.set_title('Age group survival rates',fontsize=20,color=\"red\")\n",
    "sns.plt.show()"
   ]
  },
  {
   "cell_type": "markdown",
   "metadata": {},
   "source": [
    "Comparitively,passengers with ages in between 20-40 had better survival rate."
   ]
  },
  {
   "cell_type": "markdown",
   "metadata": {},
   "source": [
    "# Drawbacks with data:\n"
   ]
  },
  {
   "cell_type": "markdown",
   "metadata": {},
   "source": [
    "Not having a separate list for number of parents and children a particular passenger had because as seen, we couldn't develop the data of number of lone femlaes travelling with children only.\n",
    "\n",
    "The missing \"Age\" entries which removed 177 rows of data."
   ]
  },
  {
   "cell_type": "markdown",
   "metadata": {},
   "source": [
    "# Conclusions:\n"
   ]
  },
  {
   "cell_type": "markdown",
   "metadata": {},
   "source": [
    "Children were given importance to survive over adults. Females were given importance to survive over men. Higher class ticket passengers survived probably owing to some special escape measures, or more safety measures for people with better class tickets. Passengers travelling with families were given importance to survive over someone who was travelling alone. Cherbourg place people survived probably owing to better survival methods known to people from that part of country."
   ]
  },
  {
   "cell_type": "markdown",
   "metadata": {},
   "source": [
    "# References:\n"
   ]
  },
  {
   "cell_type": "markdown",
   "metadata": {},
   "source": [
    "Udacity's :Intro to Data Analysis.\n",
    "\n",
    "Udacity's : Descriptive Statistics/Inferential Statistics.\n",
    "\n",
    "https://www.kaggle.com/c/titanic\n",
    "\n",
    "(http://stanford.edu/~mwaskom/software/seaborn/)\n",
    "\n",
    "(http://pandas.pydata.org/pandas-docs/stable/#)\n",
    "\n",
    "Seaborn gallery: https://seaborn.pydata.org/examples/index.html\n",
    "\n",
    "Matplotlib gallery: https://matplotlib.org/gallery.html\n",
    "\n"
   ]
  },
  {
   "cell_type": "code",
   "execution_count": null,
   "metadata": {
    "collapsed": true
   },
   "outputs": [],
   "source": []
  }
 ],
 "metadata": {
  "kernelspec": {
   "display_name": "Python 3",
   "language": "python",
   "name": "python3"
  },
  "language_info": {
   "codemirror_mode": {
    "name": "ipython",
    "version": 3
   },
   "file_extension": ".py",
   "mimetype": "text/x-python",
   "name": "python",
   "nbconvert_exporter": "python",
   "pygments_lexer": "ipython3",
   "version": "3.6.1"
  }
 },
 "nbformat": 4,
 "nbformat_minor": 2
}
